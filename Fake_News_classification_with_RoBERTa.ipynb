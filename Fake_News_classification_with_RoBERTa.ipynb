{
  "cells": [
    {
      "cell_type": "markdown",
      "metadata": {
        "id": "view-in-github",
        "colab_type": "text"
      },
      "source": [
        "<a href=\"https://colab.research.google.com/github/erfan-sams/pretrained-fake-news-detection/blob/main/Fake_News_classification_with_RoBERTa.ipynb\" target=\"_parent\"><img src=\"https://colab.research.google.com/assets/colab-badge.svg\" alt=\"Open In Colab\"/></a>"
      ]
    },
    {
      "cell_type": "markdown",
      "metadata": {
        "id": "Xw7yNDEBPXwW"
      },
      "source": [
        "##Import and install dependencies"
      ]
    },
    {
      "cell_type": "markdown",
      "metadata": {
        "id": "vPz_CDp3f2k2"
      },
      "source": [
        "You need to use your kaggle API key to download this dataset\n",
        "(upload the “kaggle.json” file that you just downloaded from Kaggle)."
      ]
    },
    {
      "cell_type": "markdown",
      "source": [
        "I used this [A tutorial on multiclass text classification using Hugging Face transformers.](https://towardsdatascience.com/news-category-classification-fine-tuning-roberta-on-tpus-with-tensorflow-f057c37b093)\n",
        "\n",
        "\n",
        "I had no experience with NLP transformers before this project."
      ],
      "metadata": {
        "id": "tCy-yYi8zUsq"
      }
    },
    {
      "cell_type": "code",
      "execution_count": null,
      "metadata": {
        "id": "Su1JbQk0ly5Z"
      },
      "outputs": [],
      "source": [
        "! mkdir ~/.kaggle\n",
        "! cp kaggle.json ~/.kaggle/\n",
        "! chmod 600 ~/.kaggle/kaggle.json"
      ]
    },
    {
      "cell_type": "code",
      "execution_count": null,
      "metadata": {
        "id": "J63f4vJHfx7i"
      },
      "outputs": [],
      "source": [
        "! kaggle datasets download clmentbisaillon/fake-and-real-news-dataset/"
      ]
    },
    {
      "cell_type": "code",
      "execution_count": null,
      "metadata": {
        "id": "qZW6zhV2mhiF"
      },
      "outputs": [],
      "source": [
        "!unzip fake-and-real-news-dataset.zip\n",
        "\n",
        "!pip install transformers\n",
        "!apt install git-lfs\n",
        "!git lfs install\n",
        "!pip install huggingface_hub"
      ]
    },
    {
      "cell_type": "code",
      "execution_count": null,
      "metadata": {
        "id": "N_uMvQdISv2H"
      },
      "outputs": [],
      "source": [
        "import tensorflow as tf\n",
        "import numpy as np\n",
        "import transformers\n",
        "from transformers import AutoTokenizer, TFAutoModelForSequenceClassification\n",
        "from transformers.keras_callbacks import PushToHubCallback\n",
        "\n",
        "import matplotlib.pyplot as plt\n",
        "import seaborn as sn\n",
        "import pandas as pd\n",
        "\n",
        "from sklearn import metrics\n",
        "from sklearn.metrics import classification_report, confusion_matrix, accuracy_score\n",
        "from sklearn.model_selection import train_test_split"
      ]
    },
    {
      "cell_type": "markdown",
      "metadata": {
        "id": "Qj60P5y3PeeF"
      },
      "source": [
        "##Initialize TPU Strategy"
      ]
    },
    {
      "cell_type": "code",
      "execution_count": null,
      "metadata": {
        "id": "db-jptlmtuzG"
      },
      "outputs": [],
      "source": [
        "# detect and init the TPU\n",
        "tpu = tf.distribute.cluster_resolver.TPUClusterResolver()\n",
        "tf.config.experimental_connect_to_cluster(tpu)\n",
        "tf.tpu.experimental.initialize_tpu_system(tpu)\n",
        "tpu_strategy = tf.distribute.experimental.TPUStrategy(tpu)\n",
        "\n",
        "batch_size=32 * tpu_strategy.num_replicas_in_sync\n",
        "print('Batch size:', batch_size)\n",
        "AUTOTUNE = tf.data.experimental.AUTOTUNE"
      ]
    },
    {
      "cell_type": "markdown",
      "metadata": {
        "id": "aKsOzNGwP16N"
      },
      "source": [
        "##Visualize and preprocess data"
      ]
    },
    {
      "cell_type": "markdown",
      "metadata": {
        "id": "w0e7HcqfQRmj"
      },
      "source": [
        "Let's load the data. We will combine the title and the description into a single string we will use as input for the model. "
      ]
    },
    {
      "cell_type": "code",
      "execution_count": null,
      "metadata": {
        "id": "G5J-YKZM8LOU"
      },
      "outputs": [],
      "source": [
        "true = pd.read_csv(\"./Fake.csv\")\n",
        "false = pd.read_csv(\"./True.csv\")"
      ]
    },
    {
      "cell_type": "code",
      "execution_count": null,
      "metadata": {
        "colab": {
          "base_uri": "https://localhost:8080/",
          "height": 366
        },
        "id": "AT2Ul2AFrUYj",
        "outputId": "f12c2402-f7cf-466b-d3d0-796137851cfd"
      },
      "outputs": [
        {
          "output_type": "execute_result",
          "data": {
            "text/plain": [
              "<matplotlib.axes._subplots.AxesSubplot at 0x7f833096e490>"
            ]
          },
          "metadata": {},
          "execution_count": 7
        },
        {
          "output_type": "display_data",
          "data": {
            "text/plain": [
              "<Figure size 432x288 with 1 Axes>"
            ],
            "image/png": "[encoded data removed]"
          },
          "metadata": {
            "needs_background": "light"
          }
        }
      ],
      "source": [
        "true.subject.value_counts().plot(kind=\"bar\")"
      ]
    },
    {
      "cell_type": "code",
      "execution_count": null,
      "metadata": {
        "colab": {
          "base_uri": "https://localhost:8080/",
          "height": 336
        },
        "id": "e4MMlqjPrYiv",
        "outputId": "c6bd0976-9429-48b7-8bad-f8024d6f37d7"
      },
      "outputs": [
        {
          "output_type": "execute_result",
          "data": {
            "text/plain": [
              "<matplotlib.axes._subplots.AxesSubplot at 0x7f836392fe10>"
            ]
          },
          "metadata": {},
          "execution_count": 8
        },
        {
          "output_type": "display_data",
          "data": {
            "text/plain": [
              "<Figure size 432x288 with 1 Axes>"
            ],
            "image/png": "[encoded data removed]"
          },
          "metadata": {
            "needs_background": "light"
          }
        }
      ],
      "source": [
        "false.subject.value_counts().plot(kind=\"bar\")"
      ]
    },
    {
      "cell_type": "markdown",
      "metadata": {
        "id": "VXG9P-W0rc8b"
      },
      "source": [
        "The subjects are not the same! also, they are few so we don't use them for training."
      ]
    },
    {
      "cell_type": "code",
      "execution_count": null,
      "metadata": {
        "id": "igXoOYZosy1h"
      },
      "outputs": [],
      "source": [
        "true[\"category\"] = 1\n",
        "false[\"category\"] = 0"
      ]
    },
    {
      "cell_type": "code",
      "execution_count": null,
      "metadata": {
        "id": "Kg4GK8hssw_x"
      },
      "outputs": [],
      "source": [
        "df = pd.concat([true, false],ignore_index=True)"
      ]
    },
    {
      "cell_type": "code",
      "execution_count": null,
      "metadata": {
        "colab": {
          "base_uri": "https://localhost:8080/",
          "height": 424
        },
        "id": "1ndcdWgktWQA",
        "outputId": "c03d9f37-546a-4368-ae96-81f9f042e91c"
      },
      "outputs": [
        {
          "output_type": "execute_result",
          "data": {
            "text/plain": [
              "                                                   title  \\\n",
              "0       Donald Trump Sends Out Embarrassing New Year’...   \n",
              "1       Drunk Bragging Trump Staffer Started Russian ...   \n",
              "2       Sheriff David Clarke Becomes An Internet Joke...   \n",
              "3       Trump Is So Obsessed He Even Has Obama’s Name...   \n",
              "4       Pope Francis Just Called Out Donald Trump Dur...   \n",
              "...                                                  ...   \n",
              "44893  'Fully committed' NATO backs new U.S. approach...   \n",
              "44894  LexisNexis withdrew two products from Chinese ...   \n",
              "44895  Minsk cultural hub becomes haven from authorities   \n",
              "44896  Vatican upbeat on possibility of Pope Francis ...   \n",
              "44897  Indonesia to buy $1.14 billion worth of Russia...   \n",
              "\n",
              "                                                    text    subject  \\\n",
              "0      Donald Trump just couldn t wish all Americans ...       News   \n",
              "1      House Intelligence Committee Chairman Devin Nu...       News   \n",
              "2      On Friday, it was revealed that former Milwauk...       News   \n",
              "3      On Christmas day, Donald Trump announced that ...       News   \n",
              "4      Pope Francis used his annual Christmas Day mes...       News   \n",
              "...                                                  ...        ...   \n",
              "44893  BRUSSELS (Reuters) - NATO allies on Tuesday we...  worldnews   \n",
              "44894  LONDON (Reuters) - LexisNexis, a provider of l...  worldnews   \n",
              "44895  MINSK (Reuters) - In the shadow of disused Sov...  worldnews   \n",
              "44896  MOSCOW (Reuters) - Vatican Secretary of State ...  worldnews   \n",
              "44897  JAKARTA (Reuters) - Indonesia will buy 11 Sukh...  worldnews   \n",
              "\n",
              "                    date  category  \n",
              "0      December 31, 2017         1  \n",
              "1      December 31, 2017         1  \n",
              "2      December 30, 2017         1  \n",
              "3      December 29, 2017         1  \n",
              "4      December 25, 2017         1  \n",
              "...                  ...       ...  \n",
              "44893   August 22, 2017          0  \n",
              "44894   August 22, 2017          0  \n",
              "44895   August 22, 2017          0  \n",
              "44896   August 22, 2017          0  \n",
              "44897   August 22, 2017          0  \n",
              "\n",
              "[44898 rows x 5 columns]"
            ],
            "text/html": [
              "\n",
              "  <div id=\"df-a715d291-d5d9-492b-9b60-a0779ed28318\">\n",
              "    <div class=\"colab-df-container\">\n",
              "      <div>\n",
              "<style scoped>\n",
              "    .dataframe tbody tr th:only-of-type {\n",
              "        vertical-align: middle;\n",
              "    }\n",
              "\n",
              "    .dataframe tbody tr th {\n",
              "        vertical-align: top;\n",
              "    }\n",
              "\n",
              "    .dataframe thead th {\n",
              "        text-align: right;\n",
              "    }\n",
              "</style>\n",
              "<table border=\"1\" class=\"dataframe\">\n",
              "  <thead>\n",
              "    <tr style=\"text-align: right;\">\n",
              "      <th></th>\n",
              "      <th>title</th>\n",
              "      <th>text</th>\n",
              "      <th>subject</th>\n",
              "      <th>date</th>\n",
              "      <th>category</th>\n",
              "    </tr>\n",
              "  </thead>\n",
              "  <tbody>\n",
              "    <tr>\n",
              "      <th>0</th>\n",
              "      <td>Donald Trump Sends Out Embarrassing New Year’...</td>\n",
              "      <td>Donald Trump just couldn t wish all Americans ...</td>\n",
              "      <td>News</td>\n",
              "      <td>December 31, 2017</td>\n",
              "      <td>1</td>\n",
              "    </tr>\n",
              "    <tr>\n",
              "      <th>1</th>\n",
              "      <td>Drunk Bragging Trump Staffer Started Russian ...</td>\n",
              "      <td>House Intelligence Committee Chairman Devin Nu...</td>\n",
              "      <td>News</td>\n",
              "      <td>December 31, 2017</td>\n",
              "      <td>1</td>\n",
              "    </tr>\n",
              "    <tr>\n",
              "      <th>2</th>\n",
              "      <td>Sheriff David Clarke Becomes An Internet Joke...</td>\n",
              "      <td>On Friday, it was revealed that former Milwauk...</td>\n",
              "      <td>News</td>\n",
              "      <td>December 30, 2017</td>\n",
              "      <td>1</td>\n",
              "    </tr>\n",
              "    <tr>\n",
              "      <th>3</th>\n",
              "      <td>Trump Is So Obsessed He Even Has Obama’s Name...</td>\n",
              "      <td>On Christmas day, Donald Trump announced that ...</td>\n",
              "      <td>News</td>\n",
              "      <td>December 29, 2017</td>\n",
              "      <td>1</td>\n",
              "    </tr>\n",
              "    <tr>\n",
              "      <th>4</th>\n",
              "      <td>Pope Francis Just Called Out Donald Trump Dur...</td>\n",
              "      <td>Pope Francis used his annual Christmas Day mes...</td>\n",
              "      <td>News</td>\n",
              "      <td>December 25, 2017</td>\n",
              "      <td>1</td>\n",
              "    </tr>\n",
              "    <tr>\n",
              "      <th>...</th>\n",
              "      <td>...</td>\n",
              "      <td>...</td>\n",
              "      <td>...</td>\n",
              "      <td>...</td>\n",
              "      <td>...</td>\n",
              "    </tr>\n",
              "    <tr>\n",
              "      <th>44893</th>\n",
              "      <td>'Fully committed' NATO backs new U.S. approach...</td>\n",
              "      <td>BRUSSELS (Reuters) - NATO allies on Tuesday we...</td>\n",
              "      <td>worldnews</td>\n",
              "      <td>August 22, 2017</td>\n",
              "      <td>0</td>\n",
              "    </tr>\n",
              "    <tr>\n",
              "      <th>44894</th>\n",
              "      <td>LexisNexis withdrew two products from Chinese ...</td>\n",
              "      <td>LONDON (Reuters) - LexisNexis, a provider of l...</td>\n",
              "      <td>worldnews</td>\n",
              "      <td>August 22, 2017</td>\n",
              "      <td>0</td>\n",
              "    </tr>\n",
              "    <tr>\n",
              "      <th>44895</th>\n",
              "      <td>Minsk cultural hub becomes haven from authorities</td>\n",
              "      <td>MINSK (Reuters) - In the shadow of disused Sov...</td>\n",
              "      <td>worldnews</td>\n",
              "      <td>August 22, 2017</td>\n",
              "      <td>0</td>\n",
              "    </tr>\n",
              "    <tr>\n",
              "      <th>44896</th>\n",
              "      <td>Vatican upbeat on possibility of Pope Francis ...</td>\n",
              "      <td>MOSCOW (Reuters) - Vatican Secretary of State ...</td>\n",
              "      <td>worldnews</td>\n",
              "      <td>August 22, 2017</td>\n",
              "      <td>0</td>\n",
              "    </tr>\n",
              "    <tr>\n",
              "      <th>44897</th>\n",
              "      <td>Indonesia to buy $1.14 billion worth of Russia...</td>\n",
              "      <td>JAKARTA (Reuters) - Indonesia will buy 11 Sukh...</td>\n",
              "      <td>worldnews</td>\n",
              "      <td>August 22, 2017</td>\n",
              "      <td>0</td>\n",
              "    </tr>\n",
              "  </tbody>\n",
              "</table>\n",
              "<p>44898 rows × 5 columns</p>\n",
              "</div>\n",
              "      <button class=\"colab-df-convert\" onclick=\"convertToInteractive('df-a715d291-d5d9-492b-9b60-a0779ed28318')\"\n",
              "              title=\"Convert this dataframe to an interactive table.\"\n",
              "              style=\"display:none;\">\n",
              "        \n",
              "  <svg xmlns=\"http://www.w3.org/2000/svg\" height=\"24px\"viewBox=\"0 0 24 24\"\n",
              "       width=\"24px\">\n",
              "    <path d=\"M0 0h24v24H0V0z\" fill=\"none\"/>\n",
              "    <path d=\"M18.56 5.44l.94 2.06.94-2.06 2.06-.94-2.06-.94-.94-2.06-.94 2.06-2.06.94zm-11 1L8.5 8.5l.94-2.06 2.06-.94-2.06-.94L8.5 2.5l-.94 2.06-2.06.94zm10 10l.94 2.06.94-2.06 2.06-.94-2.06-.94-.94-2.06-.94 2.06-2.06.94z\"/><path d=\"M17.41 7.96l-1.37-1.37c-.4-.4-.92-.59-1.43-.59-.52 0-1.04.2-1.43.59L10.3 9.45l-7.72 7.72c-.78.78-.78 2.05 0 2.83L4 21.41c.39.39.9.59 1.41.59.51 0 1.02-.2 1.41-.59l7.78-7.78 2.81-2.81c.8-.78.8-2.07 0-2.86zM5.41 20L4 18.59l7.72-7.72 1.47 1.35L5.41 20z\"/>\n",
              "  </svg>\n",
              "      </button>\n",
              "      \n",
              "  <style>\n",
              "    .colab-df-container {\n",
              "      display:flex;\n",
              "      flex-wrap:wrap;\n",
              "      gap: 12px;\n",
              "    }\n",
              "\n",
              "    .colab-df-convert {\n",
              "      background-color: #E8F0FE;\n",
              "      border: none;\n",
              "      border-radius: 50%;\n",
              "      cursor: pointer;\n",
              "      display: none;\n",
              "      fill: #1967D2;\n",
              "      height: 32px;\n",
              "      padding: 0 0 0 0;\n",
              "      width: 32px;\n",
              "    }\n",
              "\n",
              "    .colab-df-convert:hover {\n",
              "      background-color: #E2EBFA;\n",
              "      box-shadow: 0px 1px 2px rgba(60, 64, 67, 0.3), 0px 1px 3px 1px rgba(60, 64, 67, 0.15);\n",
              "      fill: #174EA6;\n",
              "    }\n",
              "\n",
              "    [theme=dark] .colab-df-convert {\n",
              "      background-color: #3B4455;\n",
              "      fill: #D2E3FC;\n",
              "    }\n",
              "\n",
              "    [theme=dark] .colab-df-convert:hover {\n",
              "      background-color: #434B5C;\n",
              "      box-shadow: 0px 1px 3px 1px rgba(0, 0, 0, 0.15);\n",
              "      filter: drop-shadow(0px 1px 2px rgba(0, 0, 0, 0.3));\n",
              "      fill: #FFFFFF;\n",
              "    }\n",
              "  </style>\n",
              "\n",
              "      <script>\n",
              "        const buttonEl =\n",
              "          document.querySelector('#df-a715d291-d5d9-492b-9b60-a0779ed28318 button.colab-df-convert');\n",
              "        buttonEl.style.display =\n",
              "          google.colab.kernel.accessAllowed ? 'block' : 'none';\n",
              "\n",
              "        async function convertToInteractive(key) {\n",
              "          const element = document.querySelector('#df-a715d291-d5d9-492b-9b60-a0779ed28318');\n",
              "          const dataTable =\n",
              "            await google.colab.kernel.invokeFunction('convertToInteractive',\n",
              "                                                     [key], {});\n",
              "          if (!dataTable) return;\n",
              "\n",
              "          const docLinkHtml = 'Like what you see? Visit the ' +\n",
              "            '<a target=\"_blank\" href=https://colab.research.google.com/notebooks/data_table.ipynb>data table notebook</a>'\n",
              "            + ' to learn more about interactive tables.';\n",
              "          element.innerHTML = '';\n",
              "          dataTable['output_type'] = 'display_data';\n",
              "          await google.colab.output.renderOutput(dataTable, element);\n",
              "          const docLink = document.createElement('div');\n",
              "          docLink.innerHTML = docLinkHtml;\n",
              "          element.appendChild(docLink);\n",
              "        }\n",
              "      </script>\n",
              "    </div>\n",
              "  </div>\n",
              "  "
            ]
          },
          "metadata": {},
          "execution_count": 11
        }
      ],
      "source": [
        "df"
      ]
    },
    {
      "cell_type": "markdown",
      "source": [
        "As you can see in the fake news dataset there are so many rows with similar text and titles.\n",
        "but we don't want to remove them because we use text + title for my classification. And finnaly remove duplicate texts."
      ],
      "metadata": {
        "id": "chLCvUAcWnSB"
      }
    },
    {
      "cell_type": "code",
      "source": [
        "df.groupby('category').describe()"
      ],
      "metadata": {
        "colab": {
          "base_uri": "https://localhost:8080/",
          "height": 253
        },
        "id": "bxv2SUo3Bgii",
        "outputId": "bc7120e7-a641-4b8f-da2f-4b791afd6b15"
      },
      "execution_count": null,
      "outputs": [
        {
          "output_type": "execute_result",
          "data": {
            "text/plain": [
              "          title                                                            \\\n",
              "          count unique                                                top   \n",
              "category                                                                    \n",
              "0         21417  20826  Factbox: Trump fills top jobs for his administ...   \n",
              "1         23481  17903  MEDIA IGNORES Time That Bill Clinton FIRED His...   \n",
              "\n",
              "                text         \\\n",
              "         freq  count unique   \n",
              "category                      \n",
              "0          14  21417  21192   \n",
              "1           6  23481  17455   \n",
              "\n",
              "                                                                 subject  \\\n",
              "                                                        top freq   count   \n",
              "category                                                                   \n",
              "0         (Reuters) - Highlights for U.S. President Dona...    8   21417   \n",
              "1                                                            626   23481   \n",
              "\n",
              "                                       date                                  \n",
              "         unique           top   freq  count unique                 top freq  \n",
              "category                                                                     \n",
              "0             2  politicsNews  11272  21417    716  December 20, 2017   182  \n",
              "1             6          News   9050  23481   1681        May 10, 2017   46  "
            ],
            "text/html": [
              "\n",
              "  <div id=\"df-f5e4baae-8903-46f7-9334-6354374def07\">\n",
              "    <div class=\"colab-df-container\">\n",
              "      <div>\n",
              "<style scoped>\n",
              "    .dataframe tbody tr th:only-of-type {\n",
              "        vertical-align: middle;\n",
              "    }\n",
              "\n",
              "    .dataframe tbody tr th {\n",
              "        vertical-align: top;\n",
              "    }\n",
              "\n",
              "    .dataframe thead tr th {\n",
              "        text-align: left;\n",
              "    }\n",
              "\n",
              "    .dataframe thead tr:last-of-type th {\n",
              "        text-align: right;\n",
              "    }\n",
              "</style>\n",
              "<table border=\"1\" class=\"dataframe\">\n",
              "  <thead>\n",
              "    <tr>\n",
              "      <th></th>\n",
              "      <th colspan=\"4\" halign=\"left\">title</th>\n",
              "      <th colspan=\"4\" halign=\"left\">text</th>\n",
              "      <th colspan=\"4\" halign=\"left\">subject</th>\n",
              "      <th colspan=\"4\" halign=\"left\">date</th>\n",
              "    </tr>\n",
              "    <tr>\n",
              "      <th></th>\n",
              "      <th>count</th>\n",
              "      <th>unique</th>\n",
              "      <th>top</th>\n",
              "      <th>freq</th>\n",
              "      <th>count</th>\n",
              "      <th>unique</th>\n",
              "      <th>top</th>\n",
              "      <th>freq</th>\n",
              "      <th>count</th>\n",
              "      <th>unique</th>\n",
              "      <th>top</th>\n",
              "      <th>freq</th>\n",
              "      <th>count</th>\n",
              "      <th>unique</th>\n",
              "      <th>top</th>\n",
              "      <th>freq</th>\n",
              "    </tr>\n",
              "    <tr>\n",
              "      <th>category</th>\n",
              "      <th></th>\n",
              "      <th></th>\n",
              "      <th></th>\n",
              "      <th></th>\n",
              "      <th></th>\n",
              "      <th></th>\n",
              "      <th></th>\n",
              "      <th></th>\n",
              "      <th></th>\n",
              "      <th></th>\n",
              "      <th></th>\n",
              "      <th></th>\n",
              "      <th></th>\n",
              "      <th></th>\n",
              "      <th></th>\n",
              "      <th></th>\n",
              "    </tr>\n",
              "  </thead>\n",
              "  <tbody>\n",
              "    <tr>\n",
              "      <th>0</th>\n",
              "      <td>21417</td>\n",
              "      <td>20826</td>\n",
              "      <td>Factbox: Trump fills top jobs for his administ...</td>\n",
              "      <td>14</td>\n",
              "      <td>21417</td>\n",
              "      <td>21192</td>\n",
              "      <td>(Reuters) - Highlights for U.S. President Dona...</td>\n",
              "      <td>8</td>\n",
              "      <td>21417</td>\n",
              "      <td>2</td>\n",
              "      <td>politicsNews</td>\n",
              "      <td>11272</td>\n",
              "      <td>21417</td>\n",
              "      <td>716</td>\n",
              "      <td>December 20, 2017</td>\n",
              "      <td>182</td>\n",
              "    </tr>\n",
              "    <tr>\n",
              "      <th>1</th>\n",
              "      <td>23481</td>\n",
              "      <td>17903</td>\n",
              "      <td>MEDIA IGNORES Time That Bill Clinton FIRED His...</td>\n",
              "      <td>6</td>\n",
              "      <td>23481</td>\n",
              "      <td>17455</td>\n",
              "      <td></td>\n",
              "      <td>626</td>\n",
              "      <td>23481</td>\n",
              "      <td>6</td>\n",
              "      <td>News</td>\n",
              "      <td>9050</td>\n",
              "      <td>23481</td>\n",
              "      <td>1681</td>\n",
              "      <td>May 10, 2017</td>\n",
              "      <td>46</td>\n",
              "    </tr>\n",
              "  </tbody>\n",
              "</table>\n",
              "</div>\n",
              "      <button class=\"colab-df-convert\" onclick=\"convertToInteractive('df-f5e4baae-8903-46f7-9334-6354374def07')\"\n",
              "              title=\"Convert this dataframe to an interactive table.\"\n",
              "              style=\"display:none;\">\n",
              "        \n",
              "  <svg xmlns=\"http://www.w3.org/2000/svg\" height=\"24px\"viewBox=\"0 0 24 24\"\n",
              "       width=\"24px\">\n",
              "    <path d=\"M0 0h24v24H0V0z\" fill=\"none\"/>\n",
              "    <path d=\"M18.56 5.44l.94 2.06.94-2.06 2.06-.94-2.06-.94-.94-2.06-.94 2.06-2.06.94zm-11 1L8.5 8.5l.94-2.06 2.06-.94-2.06-.94L8.5 2.5l-.94 2.06-2.06.94zm10 10l.94 2.06.94-2.06 2.06-.94-2.06-.94-.94-2.06-.94 2.06-2.06.94z\"/><path d=\"M17.41 7.96l-1.37-1.37c-.4-.4-.92-.59-1.43-.59-.52 0-1.04.2-1.43.59L10.3 9.45l-7.72 7.72c-.78.78-.78 2.05 0 2.83L4 21.41c.39.39.9.59 1.41.59.51 0 1.02-.2 1.41-.59l7.78-7.78 2.81-2.81c.8-.78.8-2.07 0-2.86zM5.41 20L4 18.59l7.72-7.72 1.47 1.35L5.41 20z\"/>\n",
              "  </svg>\n",
              "      </button>\n",
              "      \n",
              "  <style>\n",
              "    .colab-df-container {\n",
              "      display:flex;\n",
              "      flex-wrap:wrap;\n",
              "      gap: 12px;\n",
              "    }\n",
              "\n",
              "    .colab-df-convert {\n",
              "      background-color: #E8F0FE;\n",
              "      border: none;\n",
              "      border-radius: 50%;\n",
              "      cursor: pointer;\n",
              "      display: none;\n",
              "      fill: #1967D2;\n",
              "      height: 32px;\n",
              "      padding: 0 0 0 0;\n",
              "      width: 32px;\n",
              "    }\n",
              "\n",
              "    .colab-df-convert:hover {\n",
              "      background-color: #E2EBFA;\n",
              "      box-shadow: 0px 1px 2px rgba(60, 64, 67, 0.3), 0px 1px 3px 1px rgba(60, 64, 67, 0.15);\n",
              "      fill: #174EA6;\n",
              "    }\n",
              "\n",
              "    [theme=dark] .colab-df-convert {\n",
              "      background-color: #3B4455;\n",
              "      fill: #D2E3FC;\n",
              "    }\n",
              "\n",
              "    [theme=dark] .colab-df-convert:hover {\n",
              "      background-color: #434B5C;\n",
              "      box-shadow: 0px 1px 3px 1px rgba(0, 0, 0, 0.15);\n",
              "      filter: drop-shadow(0px 1px 2px rgba(0, 0, 0, 0.3));\n",
              "      fill: #FFFFFF;\n",
              "    }\n",
              "  </style>\n",
              "\n",
              "      <script>\n",
              "        const buttonEl =\n",
              "          document.querySelector('#df-f5e4baae-8903-46f7-9334-6354374def07 button.colab-df-convert');\n",
              "        buttonEl.style.display =\n",
              "          google.colab.kernel.accessAllowed ? 'block' : 'none';\n",
              "\n",
              "        async function convertToInteractive(key) {\n",
              "          const element = document.querySelector('#df-f5e4baae-8903-46f7-9334-6354374def07');\n",
              "          const dataTable =\n",
              "            await google.colab.kernel.invokeFunction('convertToInteractive',\n",
              "                                                     [key], {});\n",
              "          if (!dataTable) return;\n",
              "\n",
              "          const docLinkHtml = 'Like what you see? Visit the ' +\n",
              "            '<a target=\"_blank\" href=https://colab.research.google.com/notebooks/data_table.ipynb>data table notebook</a>'\n",
              "            + ' to learn more about interactive tables.';\n",
              "          element.innerHTML = '';\n",
              "          dataTable['output_type'] = 'display_data';\n",
              "          await google.colab.output.renderOutput(dataTable, element);\n",
              "          const docLink = document.createElement('div');\n",
              "          docLink.innerHTML = docLinkHtml;\n",
              "          element.appendChild(docLink);\n",
              "        }\n",
              "      </script>\n",
              "    </div>\n",
              "  </div>\n",
              "  "
            ]
          },
          "metadata": {},
          "execution_count": 13
        }
      ]
    },
    {
      "cell_type": "code",
      "source": [
        "sn.countplot(df.category)"
      ],
      "metadata": {
        "id": "gsa6hJCKtCCQ"
      },
      "execution_count": null,
      "outputs": []
    },
    {
      "cell_type": "markdown",
      "source": [
        "We concatenate text with titles."
      ],
      "metadata": {
        "id": "akzCxWDMWCMP"
      }
    },
    {
      "cell_type": "code",
      "source": [
        "df['text'] = df['text'] + ' ' + df['title']\n",
        "df = df.drop([\"subject\", \"date\"], axis = 1)\n",
        "\n",
        "print('Number of news',df.shape[0])\n",
        "\n",
        "# Remove dulpicate elements\n",
        "df = df.drop_duplicates(subset='text')\n",
        "df['text_length'] = df.text.str.len()\n",
        "\n",
        "print('After removing dulicate texts, number of news:',df.shape[0])"
      ],
      "metadata": {
        "id": "mfhE-K2UEERb"
      },
      "execution_count": null,
      "outputs": []
    },
    {
      "cell_type": "code",
      "source": [
        "df.groupby('category').describe()"
      ],
      "metadata": {
        "id": "TVn984WUxSQJ"
      },
      "execution_count": null,
      "outputs": []
    },
    {
      "cell_type": "code",
      "source": [
        "sn.countplot(df.category)"
      ],
      "metadata": {
        "id": "OeVfktTns_qz"
      },
      "execution_count": null,
      "outputs": []
    },
    {
      "cell_type": "code",
      "source": [
        "x_train, x_test, y_train, y_test = train_test_split(df.text, df.category, test_size = 0.1, random_state = 42)\n",
        "train_texts = x_train.tolist() \n",
        "train_labels = y_train.tolist()\n",
        "indices = tf.one_hot(train_labels, 2)\n",
        "\n",
        "test_texts = x_test.tolist()\n",
        "test_labels = y_test\n",
        "del x_train , x_test, true, false, y_train, y_test"
      ],
      "metadata": {
        "id": "qGen3YXQEGFj"
      },
      "execution_count": null,
      "outputs": []
    },
    {
      "cell_type": "markdown",
      "source": [
        "# Training"
      ],
      "metadata": {
        "id": "GAc2vxMBlkkw"
      }
    },
    {
      "cell_type": "markdown",
      "metadata": {
        "id": "0f1dvfp0ZjC5"
      },
      "source": [
        "Let's now prepare the dataset to feed it to the model. We need to transform the category labels into indices and to tokenize the input text. The AutoTokenizer class of Huggingface allows to tokenize the dataset using the tokenizer used in the pretraining of the model. We will use the \"roberta-base\" model. "
      ]
    },
    {
      "cell_type": "code",
      "execution_count": null,
      "metadata": {
        "id": "Zo9PsgXyyl4r"
      },
      "outputs": [],
      "source": [
        "n_categories = 2\n",
        "n_elements = df.shape[0]\n",
        "\n",
        "tokenizer = AutoTokenizer.from_pretrained(\"roberta-base\") #Tokenizer\n",
        "inputs = tokenizer(train_texts, padding=True, truncation=True, return_tensors='tf') #Tokenized text\n",
        "dataset=tf.data.Dataset.from_tensor_slices((dict(inputs), indices)) #Create a tensorflow dataset\n",
        "#train valid test split, we use 10% of the data for validation and 10% for test \n",
        "\n",
        "val_data_size=int(0.1*n_elements)\n",
        "val_ds=dataset.take(val_data_size).batch(batch_size, drop_remainder=True) \n",
        "train_ds=dataset.skip(val_data_size).batch(batch_size, drop_remainder=True)\n",
        "train_ds = train_ds.prefetch(buffer_size=AUTOTUNE)"
      ]
    },
    {
      "cell_type": "markdown",
      "metadata": {
        "id": "hL5phScz0Uwg"
      },
      "source": [
        "Let's visualize how the tokenizer splits the text into (sub)words and how text gets tokenized."
      ]
    },
    {
      "cell_type": "code",
      "execution_count": null,
      "metadata": {
        "colab": {
          "base_uri": "https://localhost:8080/"
        },
        "id": "Ed6NANm_z8z7",
        "outputId": "58445f18-5730-44e8-cb15-9d4d890e3760"
      },
      "outputs": [
        {
          "output_type": "stream",
          "name": "stdout",
          "text": [
            "Input: WASHINGTON (Reuters) - Jared Kushner, adviser and son-in-law to President Donald Trump, was questioned for nearly three hours on Tuesday by members of a House of Representatives intelligence panel investigating possible ties between Russia and the Trump campaign. “I found him to be straightforward and forthcoming. He wanted to answer every question that we had,” Republican Representative Mike Conaway said. Democratic Representative Adam Schiff said Kushner and his lawyer were receptive to coming back for additional questioning. “It was a very productive session,” Schiff said.  Kushner interviewed by House intelligence panel\n",
            "Subword tokenization: ['WASHINGTON', 'Ġ(', 'Reuters', ')', 'Ġ-', 'ĠJared', 'ĠKushner', ',', 'Ġadviser', 'Ġand', 'Ġson', '-', 'in', '-', 'law', 'Ġto', 'ĠPresident', 'ĠDonald', 'ĠTrump', ',', 'Ġwas', 'Ġquestioned', 'Ġfor', 'Ġnearly', 'Ġthree', 'Ġhours', 'Ġon', 'ĠTuesday', 'Ġby', 'Ġmembers', 'Ġof', 'Ġa', 'ĠHouse', 'Ġof', 'ĠRepresentatives', 'Ġintelligence', 'Ġpanel', 'Ġinvestigating', 'Ġpossible', 'Ġties', 'Ġbetween', 'ĠRussia', 'Ġand', 'Ġthe', 'ĠTrump', 'Ġcampaign', '.', 'ĠâĢ', 'ľ', 'I', 'Ġfound', 'Ġhim', 'Ġto', 'Ġbe', 'Ġstraightforward', 'Ġand', 'Ġforthcoming', '.', 'ĠHe', 'Ġwanted', 'Ġto', 'Ġanswer', 'Ġevery', 'Ġquestion', 'Ġthat', 'Ġwe', 'Ġhad', ',', 'âĢ', 'Ŀ', 'ĠRepublican', 'ĠRepresentative', 'ĠMike', 'ĠCon', 'away', 'Ġsaid', '.', 'ĠDemocratic', 'ĠRepresentative', 'ĠAdam', 'ĠSchiff', 'Ġsaid', 'ĠKushner', 'Ġand', 'Ġhis', 'Ġlawyer', 'Ġwere', 'Ġreceptive', 'Ġto', 'Ġcoming', 'Ġback', 'Ġfor', 'Ġadditional', 'Ġquestioning', '.', 'ĠâĢ', 'ľ', 'It', 'Ġwas', 'Ġa', 'Ġvery', 'Ġproductive', 'Ġsession', ',', 'âĢ', 'Ŀ', 'ĠSchiff', 'Ġsaid', '.', 'Ġ', 'ĠKushner', 'Ġinterviewed', 'Ġby', 'ĠHouse', 'Ġintelligence', 'Ġpanel']\n",
            "Indices: [0, 5762, 36, 1251, 43, 111, 8790, 10552, 6, 4988, 8, 979, 12, 179, 12, 4656, 7, 270, 807, 140, 6, 21, 5249, 13, 823, 130, 722, 15, 294, 30, 453, 9, 10, 446, 9, 7395, 2316, 2798, 3219, 678, 3405, 227, 798, 8, 5, 140, 637, 4, 44, 48, 100, 303, 123, 7, 28, 15196, 8, 11430, 4, 91, 770, 7, 1948, 358, 864, 14, 52, 56, 6, 17, 46, 1172, 10308, 1483, 2585, 4384, 26, 4, 1557, 10308, 3086, 22143, 26, 10552, 8, 39, 2470, 58, 33052, 7, 567, 124, 13, 943, 8026, 4, 44, 48, 243, 21, 10, 182, 8737, 1852, 6, 17, 46, 22143, 26, 4, 1437, 10552, 7477, 30, 446, 2316, 2798, 2, 1, 1, 1, 1, 1, 1, 1, 1, 1, 1, 1, 1, 1, 1, 1, 1, 1, 1, 1, 1, 1, 1, 1, 1, 1, 1, 1, 1, 1, 1, 1, 1, 1, 1, 1, 1, 1, 1, 1, 1, 1, 1, 1, 1, 1, 1, 1, 1, 1, 1, 1, 1, 1, 1, 1, 1, 1, 1, 1, 1, 1, 1, 1, 1, 1, 1, 1, 1, 1, 1, 1, 1, 1, 1, 1, 1, 1, 1, 1, 1, 1, 1, 1, 1, 1, 1, 1, 1, 1, 1, 1, 1, 1, 1, 1, 1, 1, 1, 1, 1, 1, 1, 1, 1, 1, 1, 1, 1, 1, 1, 1, 1, 1, 1, 1, 1, 1, 1, 1, 1, 1, 1, 1, 1, 1, 1, 1, 1, 1, 1, 1, 1, 1, 1, 1, 1, 1, 1, 1, 1, 1, 1, 1, 1, 1, 1, 1, 1, 1, 1, 1, 1, 1, 1, 1, 1, 1, 1, 1, 1, 1, 1, 1, 1, 1, 1, 1, 1, 1, 1, 1, 1, 1, 1, 1, 1, 1, 1, 1, 1, 1, 1, 1, 1, 1, 1, 1, 1, 1, 1, 1, 1, 1, 1, 1, 1, 1, 1, 1, 1, 1, 1, 1, 1, 1, 1, 1, 1, 1, 1, 1, 1, 1, 1, 1, 1, 1, 1, 1, 1, 1, 1, 1, 1, 1, 1, 1, 1, 1, 1, 1, 1, 1, 1, 1, 1, 1, 1, 1, 1, 1, 1, 1, 1, 1, 1, 1, 1, 1, 1, 1, 1, 1, 1, 1, 1, 1, 1, 1, 1, 1, 1, 1, 1, 1, 1, 1, 1]\n",
            "\n",
            " ---------------------------------------------------------------------------- \n",
            "\n",
            "Input: It s hard to imagine, and very sad, that a hospital could hire someone who is so filled with hate and obsessed with race, to care for some of the most vulnerable members of our society.A controversial tweet allegedly posted Friday by a nurse at one of the largest hospital systems in the nation has sparked an internal investigation.The tweet came from an account named  Night Nurse,  linked to Indiana University Health employee Taiyesha Baker, FOX59 reported. Every white woman raises a detriment to society when they raise a son. Someone with the HIGHEST propensity to be a terrorist, rapist, racist, killer, and domestic violence all star. Historically every son you had should be sacrificed to the wolves b___,  the tweet read.An IU Health spokesman confirmed to FOX59 that Baker is a registered nurse, but declined to reveal the hospital where she is currently employed. IU Health is aware of several troubling posts on social media which appear to be from a recently hired IU Health employee,  the hospital said in a statement.  Our HR department continues to investigate the situation and the authenticity of the posts. During the investigation, that employee (who does not work at Riley Hospital for Children) will have no access to patient care. Baker claimed to work in pediatrics in previously deleted tweets.According to public records obtained by FOX59, Baker was most recently issued a nursing license on Oct. 30.The Twitter account behind the controversial messages, @tai_fieri, was originally deleted after the post sparked a firestorm, but now appears to have been created by a different user who is posting new tweets, the IndyStar reported.  FOX News NURSE FROM One Of Nation’s Largest Hospitals Tweets: “Every white woman raises a detriment to society when they raise a son”…Their Sons “should be sacrificed to the wolves b___””\n",
            "Subword tokenization: ['It', 'Ġs', 'Ġhard', 'Ġto', 'Ġimagine', ',', 'Ġand', 'Ġvery', 'Ġsad', ',', 'Ġthat', 'Ġa', 'Ġhospital', 'Ġcould', 'Ġhire', 'Ġsomeone', 'Ġwho', 'Ġis', 'Ġso', 'Ġfilled', 'Ġwith', 'Ġhate', 'Ġand', 'Ġobsessed', 'Ġwith', 'Ġrace', ',', 'Ġto', 'Ġcare', 'Ġfor', 'Ġsome', 'Ġof', 'Ġthe', 'Ġmost', 'Ġvulnerable', 'Ġmembers', 'Ġof', 'Ġour', 'Ġsociety', '.', 'A', 'Ġcontroversial', 'Ġtweet', 'Ġallegedly', 'Ġposted', 'ĠFriday', 'Ġby', 'Ġa', 'Ġnurse', 'Ġat', 'Ġone', 'Ġof', 'Ġthe', 'Ġlargest', 'Ġhospital', 'Ġsystems', 'Ġin', 'Ġthe', 'Ġnation', 'Ġhas', 'Ġsparked', 'Ġan', 'Ġinternal', 'Ġinvestigation', '.', 'The', 'Ġtweet', 'Ġcame', 'Ġfrom', 'Ġan', 'Ġaccount', 'Ġnamed', 'Ġ', 'ĠNight', 'ĠNurse', ',', 'Ġ', 'Ġlinked', 'Ġto', 'ĠIndiana', 'ĠUniversity', 'ĠHealth', 'Ġemployee', 'ĠTai', 'yes', 'ha', 'ĠBaker', ',', 'ĠFOX', '59', 'Ġreported', '.', 'ĠEvery', 'Ġwhite', 'Ġwoman', 'Ġraises', 'Ġa', 'Ġdetriment', 'Ġto', 'Ġsociety', 'Ġwhen', 'Ġthey', 'Ġraise', 'Ġa', 'Ġson', '.', 'ĠSomeone', 'Ġwith', 'Ġthe', 'ĠHIGH', 'EST', 'Ġpropensity', 'Ġto', 'Ġbe', 'Ġa', 'Ġterrorist', ',', 'Ġrapist', ',', 'Ġracist', ',', 'Ġkiller', ',', 'Ġand', 'Ġdomestic', 'Ġviolence', 'Ġall', 'Ġstar', '.', 'ĠHistorically', 'Ġevery', 'Ġson', 'Ġyou', 'Ġhad', 'Ġshould', 'Ġbe', 'Ġsacrificed', 'Ġto', 'Ġthe', 'Ġwolves', 'Ġb', '___', ',', 'Ġ', 'Ġthe', 'Ġtweet', 'Ġread', '.', 'An', 'ĠIU', 'ĠHealth', 'Ġspokesman', 'Ġconfirmed', 'Ġto', 'ĠFOX', '59', 'Ġthat', 'ĠBaker', 'Ġis', 'Ġa', 'Ġregistered', 'Ġnurse', ',', 'Ġbut', 'Ġdeclined', 'Ġto', 'Ġreveal', 'Ġthe', 'Ġhospital', 'Ġwhere', 'Ġshe', 'Ġis', 'Ġcurrently', 'Ġemployed', '.', 'ĠIU', 'ĠHealth', 'Ġis', 'Ġaware', 'Ġof', 'Ġseveral', 'Ġtroubling', 'Ġposts', 'Ġon', 'Ġsocial', 'Ġmedia', 'Ġwhich', 'Ġappear', 'Ġto', 'Ġbe', 'Ġfrom', 'Ġa', 'Ġrecently', 'Ġhired', 'ĠIU', 'ĠHealth', 'Ġemployee', ',', 'Ġ', 'Ġthe', 'Ġhospital', 'Ġsaid', 'Ġin', 'Ġa', 'Ġstatement', '.', 'Ġ', 'ĠOur', 'ĠHR', 'Ġdepartment', 'Ġcontinues', 'Ġto', 'Ġinvestigate', 'Ġthe', 'Ġsituation', 'Ġand', 'Ġthe', 'Ġauthenticity', 'Ġof', 'Ġthe', 'Ġposts', '.', 'ĠDuring', 'Ġthe', 'Ġinvestigation', ',', 'Ġthat', 'Ġemployee', 'Ġ(', 'who', 'Ġdoes', 'Ġnot', 'Ġwork', 'Ġat', 'ĠRiley', 'ĠHospital', 'Ġfor', 'ĠChildren', ')', 'Ġwill', 'Ġhave', 'Ġno', 'Ġaccess', 'Ġto', 'Ġpatient', 'Ġcare', '.', 'ĠBaker', 'Ġclaimed', 'Ġto', 'Ġwork', 'Ġin', 'Ġped', 'iatrics', 'Ġin', 'Ġpreviously', 'Ġdeleted', 'Ġtweets', '.', 'According', 'Ġto', 'Ġpublic', 'Ġrecords', 'Ġobtained', 'Ġby', 'ĠFOX', '59', ',', 'ĠBaker', 'Ġwas', 'Ġmost', 'Ġrecently', 'Ġissued', 'Ġa', 'Ġnursing', 'Ġlicense', 'Ġon', 'ĠOct', '.', 'Ġ30', '.', 'The', 'ĠTwitter', 'Ġaccount', 'Ġbehind', 'Ġthe', 'Ġcontroversial', 'Ġmessages', ',', 'Ġ@', 't', 'ai', '_', 'f', 'ieri', ',', 'Ġwas', 'Ġoriginally', 'Ġdeleted', 'Ġafter', 'Ġthe', 'Ġpost', 'Ġsparked', 'Ġa', 'Ġfire', 'storm', ',', 'Ġbut', 'Ġnow', 'Ġappears', 'Ġto', 'Ġhave', 'Ġbeen', 'Ġcreated', 'Ġby', 'Ġa', 'Ġdifferent', 'Ġuser', 'Ġwho', 'Ġis', 'Ġposting', 'Ġnew', 'Ġtweets', ',', 'Ġthe', 'ĠIndy', 'Star', 'Ġreported', '.', 'Ġ', 'ĠFOX', 'ĠNews', 'ĠN', 'UR', 'SE', 'ĠFROM', 'ĠOne', 'ĠOf', 'ĠNation', 'âĢ', 'Ļ', 's', 'ĠL', 'arg', 'est', 'ĠHosp', 'itals', 'ĠTwe', 'ets', ':', 'ĠâĢ', 'ľ', 'Every', 'Ġwhite', 'Ġwoman', 'Ġraises', 'Ġa', 'Ġdetriment', 'Ġto', 'Ġsociety', 'Ġwhen', 'Ġthey', 'Ġraise', 'Ġa', 'Ġson', 'âĢ', 'Ŀ', 'âĢ¦', 'Their', 'ĠSons', 'ĠâĢ', 'ľ', 'should', 'Ġbe', 'Ġsacrificed', 'Ġto', 'Ġthe', 'Ġwolves', 'Ġb', '___', 'âĢ', 'Ŀ', 'âĢ', 'Ŀ']\n",
            "Indices: [0, 243, 579, 543, 7, 4744, 6, 8, 182, 5074, 6, 14, 10, 1098, 115, 6198, 951, 54, 16, 98, 3820, 19, 4157, 8, 17593, 19, 1015, 6, 7, 575, 13, 103, 9, 5, 144, 4478, 453, 9, 84, 2313, 4, 250, 4456, 3545, 2346, 1278, 273, 30, 10, 9008, 23, 65, 9, 5, 1154, 1098, 1743, 11, 5, 1226, 34, 6246, 41, 3425, 803, 4, 133, 3545, 376, 31, 41, 1316, 1440, 1437, 4172, 25651, 6, 1437, 3307, 7, 4552, 589, 1309, 3200, 15643, 10932, 1999, 5643, 6, 7481, 4156, 431, 4, 4337, 1104, 693, 7700, 10, 31969, 7, 2313, 77, 51, 1693, 10, 979, 4, 15412, 19, 5, 23237, 4923, 36186, 7, 28, 10, 4888, 6, 33226, 6, 7159, 6, 7844, 6, 8, 1897, 1476, 70, 999, 4, 29660, 358, 979, 47, 56, 197, 28, 26936, 7, 5, 27365, 741, 42593, 6, 1437, 5, 3545, 1166, 4, 4688, 35089, 1309, 1565, 1474, 7, 7481, 4156, 14, 5643, 16, 10, 3382, 9008, 6, 53, 1981, 7, 4991, 5, 1098, 147, 79, 16, 855, 7460, 4, 35089, 1309, 16, 2542, 9, 484, 15554, 4570, 15, 592, 433, 61, 2082, 7, 28, 31, 10, 682, 4547, 35089, 1309, 3200, 6, 1437, 5, 1098, 26, 11, 10, 445, 4, 1437, 1541, 11683, 1494, 1388, 7, 4830, 5, 1068, 8, 5, 21341, 9, 5, 4570, 4, 1590, 5, 803, 6, 14, 3200, 36, 8155, 473, 45, 173, 23, 9817, 2392, 13, 4278, 43, 40, 33, 117, 899, 7, 3186, 575, 4, 5643, 1695, 7, 173, 11, 16954, 38246, 11, 1433, 13908, 6245, 4, 14693, 7, 285, 2189, 4756, 30, 7481, 4156, 6, 5643, 21, 144, 682, 1167, 10, 8701, 4385, 15, 1700, 4, 389, 4, 133, 599, 1316, 639, 5, 4456, 3731, 6, 787, 90, 1439, 1215, 506, 14319, 6, 21, 3249, 13908, 71, 5, 618, 6246, 10, 668, 10868, 6, 53, 122, 2092, 7, 33, 57, 1412, 30, 10, 430, 3018, 54, 16, 6016, 92, 6245, 6, 5, 12421, 4239, 431, 4, 1437, 7481, 491, 234, 2492, 3388, 11974, 509, 1525, 5857, 17, 27, 29, 226, 5384, 990, 13377, 19196, 18868, 2580, 35, 44, 48, 7682, 1104, 693, 7700, 10, 31969, 7, 2313, 77, 51, 1693, 10, 979, 17, 46, 1174, 16837, 21913, 44, 48, 17276, 28, 26936, 7, 5, 27365, 741, 42593, 17, 46, 17, 46, 2]\n",
            "\n",
            " ---------------------------------------------------------------------------- \n",
            "\n"
          ]
        }
      ],
      "source": [
        "tokens=tokenizer(train_texts[:2], padding=True, truncation=True)['input_ids']\n",
        "for i in range(2):\n",
        "  print('Input:',train_texts[i])\n",
        "  print('Subword tokenization:',tokenizer.tokenize(train_texts[i]))\n",
        "  print('Indices:', tokens[i])\n",
        "  print('\\n','----------------------------------------------------------------------------','\\n')\n"
      ]
    },
    {
      "cell_type": "markdown",
      "metadata": {
        "id": "3ELlWvTAkwAO"
      },
      "source": [
        "We see that the character 'Ġ' is used to indicate the start of a new word in the text, while the other parts of the words that get split don't contain it. For example 'reevaluate' gets split into 'Ġre' and 'evaluate'. We further notice that the tokenize uses the index 0 to indicate the beginning of the text and 2 to indicate the ending. Index 1 is reserved for padding. "
      ]
    },
    {
      "cell_type": "code",
      "execution_count": null,
      "metadata": {
        "colab": {
          "base_uri": "https://localhost:8080/",
          "height": 584,
          "referenced_widgets": [
            "67c70ef3bd0345f1ad6c601d5eddf9c1",
            "1aeee58c7a3e4ed8a549b01fd0b6f35b",
            "f4a3e4f482b54a009d974cecdc4098d2",
            "bb988c09c54a4bed9951f7a4a900ac01",
            "0b832c002cb64f42aa6416a023df79c4",
            "1a11f27ab5ee4213b6f44d6203dd5796",
            "a3efe638ca914bd9a5600b05850f3faa",
            "f5bcbd56d1bc4b07a81313e42eebb83e",
            "f5098450011040d8914dc93f9452fc13",
            "ac6878f2a8134f3996803bc067184eb6",
            "0451902513874a30a232e730ea5368b5"
          ]
        },
        "id": "8eTaKO7v9VSo",
        "outputId": "db3771b4-00c0-473e-cbf8-48d88c28cc5b"
      },
      "outputs": [
        {
          "output_type": "display_data",
          "data": {
            "text/plain": [
              "Downloading:   0%|          | 0.00/627M [00:00<?, ?B/s]"
            ],
            "application/vnd.jupyter.widget-view+json": {
              "version_major": 2,
              "version_minor": 0,
              "model_id": "67c70ef3bd0345f1ad6c601d5eddf9c1"
            }
          },
          "metadata": {}
        },
        {
          "output_type": "stream",
          "name": "stderr",
          "text": [
            "All model checkpoint layers were used when initializing TFRobertaForSequenceClassification.\n",
            "\n",
            "Some layers of TFRobertaForSequenceClassification were not initialized from the model checkpoint at roberta-base and are newly initialized: ['classifier']\n",
            "You should probably TRAIN this model on a down-stream task to be able to use it for predictions and inference.\n"
          ]
        },
        {
          "output_type": "stream",
          "name": "stdout",
          "text": [
            "Epoch 1/5\n",
            "140/140 [==============================] - 230s 972ms/step - loss: 0.1459 - binary_accuracy: 0.9260 - auc: 0.9909 - val_loss: 0.0088 - val_binary_accuracy: 1.0000 - val_auc: 1.0000\n",
            "Epoch 2/5\n",
            "140/140 [==============================] - 127s 907ms/step - loss: 0.0077 - binary_accuracy: 0.9998 - auc: 0.9999 - val_loss: 0.0035 - val_binary_accuracy: 1.0000 - val_auc: 1.0000\n",
            "Epoch 3/5\n",
            "140/140 [==============================] - 127s 907ms/step - loss: 0.0038 - binary_accuracy: 0.9999 - auc: 0.9999 - val_loss: 0.0020 - val_binary_accuracy: 1.0000 - val_auc: 1.0000\n",
            "Epoch 4/5\n",
            "140/140 [==============================] - 127s 908ms/step - loss: 0.0021 - binary_accuracy: 1.0000 - auc: 1.0000 - val_loss: 0.0013 - val_binary_accuracy: 1.0000 - val_auc: 1.0000\n",
            "Epoch 5/5\n",
            "140/140 [==============================] - 127s 908ms/step - loss: 0.0015 - binary_accuracy: 1.0000 - auc: 1.0000 - val_loss: 9.4975e-04 - val_binary_accuracy: 1.0000 - val_auc: 1.0000\n"
          ]
        },
        {
          "output_type": "display_data",
          "data": {
            "text/plain": [
              "<Figure size 432x288 with 1 Axes>"
            ],
            "image/png": "[encoded data removed]"
          },
          "metadata": {
            "needs_background": "light"
          }
        }
      ],
      "source": [
        "with tpu_strategy.scope():\n",
        "    model = TFAutoModelForSequenceClassification.from_pretrained(\"roberta-base\", num_labels=n_categories)\n",
        "    model.compile(\n",
        "        optimizer=tf.keras.optimizers.Adam(learning_rate=1e-5, clipnorm=1.),\n",
        "        loss=tf.keras.losses.BinaryCrossentropy(from_logits=True),\n",
        "        metrics=[tf.keras.metrics.BinaryAccuracy(), tf.keras.metrics.AUC()],\n",
        "        )\n",
        "\n",
        "\n",
        "history=model.fit(train_ds, validation_data=val_ds, epochs=5, verbose=1)\n",
        "\n",
        "tf_save_directory = \"./tf_save_pretrained\"\n",
        "tokenizer.save_pretrained(tf_save_directory)\n",
        "model.save_pretrained(tf_save_directory)\n",
        "\n",
        "plt.plot(history.history['loss'])\n",
        "plt.plot(history.history['val_loss'])\n",
        "plt.ylabel('model loss')\n",
        "plt.xlabel('epoch')\n",
        "plt.legend(['train', 'val'], loc='best')\n",
        "plt.savefig('train_history.png')\n",
        "plt.show()"
      ]
    },
    {
      "cell_type": "markdown",
      "metadata": {
        "id": "lSx47BK9tCAv"
      },
      "source": [
        "# AUT curve"
      ]
    },
    {
      "cell_type": "code",
      "execution_count": null,
      "metadata": {
        "colab": {
          "base_uri": "https://localhost:8080/",
          "height": 279
        },
        "id": "-V-njI8T0SZ0",
        "outputId": "230be0e1-49d8-4010-97e4-3ff361042bf5"
      },
      "outputs": [
        {
          "output_type": "display_data",
          "data": {
            "text/plain": [
              "<Figure size 432x288 with 1 Axes>"
            ],
            "image/png": "[encoded data removed]"
          },
          "metadata": {
            "needs_background": "light"
          }
        }
      ],
      "source": [
        "plt.plot(history.history['auc'])\n",
        "plt.ylabel('model auc')\n",
        "plt.xlabel('epoch')\n",
        "plt.legend(['auc'], loc='best')\n",
        "plt.savefig('auc.png')\n",
        "plt.show()"
      ]
    },
    {
      "cell_type": "code",
      "execution_count": null,
      "metadata": {
        "id": "1ZimhqOf_uvS",
        "colab": {
          "base_uri": "https://localhost:8080/"
        },
        "outputId": "a0a6c1db-32f4-4630-9d89-b57b46031cf5"
      },
      "outputs": [
        {
          "output_type": "stream",
          "name": "stdout",
          "text": [
            "141/141 [==============================] - 27s 163ms/step\n"
          ]
        }
      ],
      "source": [
        "tokens=tokenizer(test_texts, padding=True,truncation=True, return_tensors='tf')\n",
        "logits=model.predict(dict(tokens), verbose=1).logits\n",
        "prob=tf.nn.sigmoid(logits).numpy()\n",
        "predictions=np.argmax(prob, axis=1)"
      ]
    },
    {
      "cell_type": "code",
      "execution_count": null,
      "metadata": {
        "colab": {
          "base_uri": "https://localhost:8080/"
        },
        "id": "lox4a4Y3AwB7",
        "outputId": "15707da6-fc31-4c0f-89f5-f17932d723ff"
      },
      "outputs": [
        {
          "output_type": "stream",
          "name": "stdout",
          "text": [
            "AUC value is 1.0\n"
          ]
        }
      ],
      "source": [
        "y_true = test_labels\n",
        "y_pred = predictions\n",
        "fpr, tpr, thresholds = metrics.roc_curve(y_true, y_pred)\n",
        "print('AUC value is' ,metrics.auc(fpr, tpr))"
      ]
    },
    {
      "cell_type": "code",
      "source": [
        "print(classification_report(y_true, y_pred, target_names=['real_news', 'fake_news']))"
      ],
      "metadata": {
        "colab": {
          "base_uri": "https://localhost:8080/"
        },
        "id": "B0LesBOXBjGo",
        "outputId": "7937e142-ffb1-404d-9024-8de1bbc2ec88"
      },
      "execution_count": null,
      "outputs": [
        {
          "output_type": "stream",
          "name": "stdout",
          "text": [
            "              precision    recall  f1-score   support\n",
            "\n",
            "   real_news       1.00      1.00      1.00      2106\n",
            "   fake_news       1.00      1.00      1.00      2384\n",
            "\n",
            "    accuracy                           1.00      4490\n",
            "   macro avg       1.00      1.00      1.00      4490\n",
            "weighted avg       1.00      1.00      1.00      4490\n",
            "\n"
          ]
        }
      ]
    },
    {
      "cell_type": "markdown",
      "source": [
        "# Alert!!!\n",
        "\n",
        "With these results, I've been shocked. I know transformers are so powerfull but when you see around 100% accuracy you must be a little suspecios to find whats wrong!\n",
        "\n",
        "After I manually checked to find what is the difference between real and fake news text. I found something so obvious.\n",
        "here we go ...\n",
        "\n",
        "when I decided to check the real news texts.\n",
        "\n",
        "I realised this:"
      ],
      "metadata": {
        "id": "iex7C-LHJvP-"
      }
    },
    {
      "cell_type": "code",
      "source": [
        "for i in df[(df.category == 0)].sample(20).text.values:\n",
        "  print(i[:50])"
      ],
      "metadata": {
        "colab": {
          "base_uri": "https://localhost:8080/"
        },
        "id": "YywSrQ6XJuk7",
        "outputId": "e54906e0-1f08-473b-d010-af013e240c05"
      },
      "execution_count": null,
      "outputs": [
        {
          "output_type": "stream",
          "name": "stdout",
          "text": [
            "WASHINGTON (Reuters) - Washington, D.C.’s city cou\n",
            "NAIROBI (Reuters) - Kenya s election board chairma\n",
            "WASHINGTON (Reuters) - U.S. President Donald Trump\n",
            "BEIRUT (Reuters) - The U.S.-backed Syrian Democrat\n",
            "BEIRUT (Reuters) - Lebanon s army will deploy alon\n",
            "BRUSSELS (Reuters) - U.S. President Donald Trump a\n",
            "WASHINGTON (Reuters) - The shocking shooting death\n",
            " WASHINGTON (Reuters) - Donald Trump may have done\n",
            "DUBAI (Reuters) - Gulf carriers Etihad Airways and\n",
            "EDMONTON, Alberta (Reuters) - A Somali refugee who\n",
            "PHILADELPHIA (Reuters) - U.S. President Donald Tru\n",
            "RIYADH (Reuters) - President Barack Obama and Saud\n",
            "WASHINGTON (Reuters) - Mexico’s economy minister o\n",
            "THE HAGUE (Reuters) - The U.N. war crimes court th\n",
            "(Reuters) - U.S. Republican presidential candidate\n",
            "WASHINGTON (Reuters) - U.S. President Barack Obama\n",
            "BERLIN (Reuters) - Germany s Social Democrats (SPD\n",
            "MILAN (Reuters) - Former U.S. President Barack Oba\n",
            "XIAMEN, China (Reuters) - Russian President Vladim\n",
            "BEDMINSTER, N.J. (Reuters) - President Donald Trum\n"
          ]
        }
      ]
    },
    {
      "cell_type": "markdown",
      "source": [
        "As you can see almost(or quite) all of them have \"**(Reuters)**\"; It is one of the first words of the text and after that, we have **\"-\"** (dash or hyphen)."
      ],
      "metadata": {
        "id": "ENFBfF6wMQHM"
      }
    },
    {
      "cell_type": "code",
      "source": [
        "print('number of real news:', df[(df.category == 0)].shape[0])\n",
        "print('number of real news without \"(Reuters)\":', df[df.text.str.contains('(Reuters)') & (df.category == 0)].shape[0])\n",
        "print(21417 - 21378)"
      ],
      "metadata": {
        "id": "FOq2mEE4GnYo",
        "colab": {
          "base_uri": "https://localhost:8080/"
        },
        "outputId": "a0c33be9-68fe-4f5e-dd57-dbd443c1e4a3"
      },
      "execution_count": null,
      "outputs": [
        {
          "output_type": "stream",
          "name": "stdout",
          "text": [
            "number of real news: 21417\n",
            "number of real news without \"(Reuters)\": 21378\n",
            "39\n"
          ]
        },
        {
          "output_type": "stream",
          "name": "stderr",
          "text": [
            "/usr/local/lib/python3.7/dist-packages/ipykernel_launcher.py:2: UserWarning: This pattern has match groups. To actually get the groups, use str.extract.\n",
            "  \n"
          ]
        }
      ]
    },
    {
      "cell_type": "markdown",
      "source": [
        "But you can't saw that when you checked fake news text.\n",
        "There is no Reuters."
      ],
      "metadata": {
        "id": "HANzSGx9GqQK"
      }
    },
    {
      "cell_type": "code",
      "source": [
        "for i in df[(df.category == 1)].sample(20).text.values:\n",
        "  print(i[:50])"
      ],
      "metadata": {
        "colab": {
          "base_uri": "https://localhost:8080/"
        },
        "id": "NY0vDQ8FQa44",
        "outputId": "2deba626-4b06-4355-bbcc-676303d4805e"
      },
      "execution_count": null,
      "outputs": [
        {
          "output_type": "stream",
          "name": "stdout",
          "text": [
            "As our limp-wristed President flies around on taxp\n",
            "Ever since the horrific act of senseless violence \n",
            "If Donald Trump has his way, the constitutional ri\n",
            "Don t you just love the absolute boldness of the M\n",
            "President Trump was right again! His campaign mana\n",
            "21st Century Wire says There is one curious thing \n",
            " Democrats are the party of KKK The problem is, yo\n",
            " (Photo: Patrick Henningsen 2016)News LineThe Whit\n",
            "Trinity Lutheran Church in Columbia, Missouri has \n",
            " By Vin ArmaniHillary Clinton continues to blame R\n",
            "The father of a Virginia reporter who was shot to \n",
            "Political pundit Joe Scarborough has a Donald Trum\n",
            "It s great to see one of the Justices questioning \n",
            "The press was not happy and took to Twitter to hav\n",
            "For the longest time, Donald Trump has been advoca\n",
            "BREAKING: #TimKaine rally only about 30 people sho\n",
            "69 people were shot in gun-free Chicago over this \n",
            "San Francisco 49ers quarterback Colin Kaepernick a\n",
            "Here s a question for the anti-Trump media: If Put\n",
            "Here is the list of Republicans who won t support \n"
          ]
        }
      ]
    },
    {
      "cell_type": "markdown",
      "source": [
        "So I suppose this dataset is not so good for this task. Maybe we should remove every character before the dash.\n",
        "\n",
        "Lets check this out with test dataset."
      ],
      "metadata": {
        "id": "LcMe9f7eQ-pI"
      }
    },
    {
      "cell_type": "code",
      "source": [
        "new_test_texts = list()\n",
        "for t in test_texts:\n",
        "  place = t.find('(Reuters) -')\n",
        "  if place < 100:\n",
        "    new_test_texts.append(t[place+12:].strip())\n",
        "    continue\n",
        "  new_test_texts.append(t)"
      ],
      "metadata": {
        "id": "p-ByR96qS3OF"
      },
      "execution_count": null,
      "outputs": []
    },
    {
      "cell_type": "code",
      "source": [
        "tokens=tokenizer(new_test_texts, padding=True,truncation=True, return_tensors='tf')\n",
        "logits=model.predict(dict(tokens), verbose=1).logits\n",
        "prob=tf.nn.sigmoid(logits).numpy()\n",
        "predictions=np.argmax(prob, axis=1)"
      ],
      "metadata": {
        "colab": {
          "base_uri": "https://localhost:8080/"
        },
        "id": "ovMvQrdLUvXp",
        "outputId": "4c7317d0-aa66-4d4d-d1c1-8e505253dce5"
      },
      "execution_count": null,
      "outputs": [
        {
          "output_type": "stream",
          "name": "stdout",
          "text": [
            "141/141 [==============================] - 9s 56ms/step\n"
          ]
        }
      ]
    },
    {
      "cell_type": "code",
      "source": [
        "y_true = test_labels\n",
        "y_pred = predictions\n",
        "fpr, tpr, thresholds = metrics.roc_curve(y_true, y_pred)\n",
        "print('AUC value is' ,metrics.auc(fpr, tpr))"
      ],
      "metadata": {
        "colab": {
          "base_uri": "https://localhost:8080/"
        },
        "id": "OI4bsy_0Ux4q",
        "outputId": "97f25d8d-9ff3-4dde-cd6a-4f0d68eb6f18"
      },
      "execution_count": null,
      "outputs": [
        {
          "output_type": "stream",
          "name": "stdout",
          "text": [
            "AUC value is 0.9976258309591644\n"
          ]
        }
      ]
    },
    {
      "cell_type": "code",
      "source": [
        "print(classification_report(y_true, y_pred, target_names=['real_news', 'fake_news']))"
      ],
      "metadata": {
        "colab": {
          "base_uri": "https://localhost:8080/"
        },
        "id": "xCNgsCEqVEGw",
        "outputId": "d67a97de-0749-4570-d858-2baa874a94ec"
      },
      "execution_count": null,
      "outputs": [
        {
          "output_type": "stream",
          "name": "stdout",
          "text": [
            "              precision    recall  f1-score   support\n",
            "\n",
            "   real_news       1.00      1.00      1.00      2106\n",
            "   fake_news       1.00      1.00      1.00      2384\n",
            "\n",
            "    accuracy                           1.00      4490\n",
            "   macro avg       1.00      1.00      1.00      4490\n",
            "weighted avg       1.00      1.00      1.00      4490\n",
            "\n"
          ]
        }
      ]
    },
    {
      "cell_type": "code",
      "source": [
        "confusion_matrix=tf.math.confusion_matrix(y_true, y_pred, num_classes=n_categories)\n",
        "\n",
        "plt.figure(figsize=(7,5))\n",
        "sn.heatmap(confusion_matrix, annot=True, fmt='d', cmap='seismic', square=True, xticklabels=['real','fake'], yticklabels=['real','fake']) "
      ],
      "metadata": {
        "colab": {
          "base_uri": "https://localhost:8080/",
          "height": 338
        },
        "id": "hOKJjEezVykX",
        "outputId": "5dfd1668-b9bb-4e2d-f628-e3916e50d40d"
      },
      "execution_count": null,
      "outputs": [
        {
          "output_type": "execute_result",
          "data": {
            "text/plain": [
              "<matplotlib.axes._subplots.AxesSubplot at 0x7f832931c750>"
            ]
          },
          "metadata": {},
          "execution_count": 36
        },
        {
          "output_type": "display_data",
          "data": {
            "text/plain": [
              "<Figure size 504x360 with 2 Axes>"
            ],
            "image/png": "[encoded data removed]"
          },
          "metadata": {
            "needs_background": "light"
          }
        }
      ]
    },
    {
      "cell_type": "code",
      "source": [
        "indices = np.where(y_true != y_pred)[0]\n",
        "\n",
        "wrong_texts = list()\n",
        "for i in indices:\n",
        "  wrong_texts.append(new_test_texts[i])"
      ],
      "metadata": {
        "id": "qyPWN17VXyzP"
      },
      "execution_count": null,
      "outputs": []
    },
    {
      "cell_type": "markdown",
      "source": [
        "#save the model"
      ],
      "metadata": {
        "id": "1g4yZeoHUYpT"
      }
    },
    {
      "cell_type": "code",
      "source": [
        "!huggingface-cli login"
      ],
      "metadata": {
        "id": "w4yMCWKQUmlL"
      },
      "execution_count": null,
      "outputs": []
    },
    {
      "cell_type": "code",
      "source": [
        "!git config --global credential.helper store"
      ],
      "metadata": {
        "id": "eOgJI8RXUp-A"
      },
      "execution_count": null,
      "outputs": []
    },
    {
      "cell_type": "code",
      "source": [
        "!git lfs install"
      ],
      "metadata": {
        "id": "vt4HNNcwKjF8"
      },
      "execution_count": null,
      "outputs": []
    },
    {
      "cell_type": "code",
      "source": [
        "from huggingface_hub import Repository\n",
        "repo = Repository(\n",
        "    local_dir = 'mamad', \n",
        "    clone_from='erfan-sams/roberta-fake-news'\n",
        ")"
      ],
      "metadata": {
        "id": "LAczlqlPVEmS"
      },
      "execution_count": null,
      "outputs": []
    },
    {
      "cell_type": "code",
      "source": [
        "repo.push_to_hub(\n",
        "   commit_message = \"Our first big model!\"\n",
        ")"
      ],
      "metadata": {
        "id": "PxbprRoaVVjp"
      },
      "execution_count": null,
      "outputs": []
    }
  ],
  "metadata": {
    "accelerator": "TPU",
    "colab": {
      "collapsed_sections": [],
      "name": "Fake News classification with RoBERTa.ipynb",
      "provenance": [],
      "include_colab_link": true
    },
    "kernelspec": {
      "display_name": "Python 3",
      "name": "python3"
    },
    "language_info": {
      "name": "python"
    },
    "widgets": {
      "application/vnd.jupyter.widget-state+json": {
        "67c70ef3bd0345f1ad6c601d5eddf9c1": {
          "model_module": "@jupyter-widgets/controls",
          "model_name": "HBoxModel",
          "model_module_version": "1.5.0",
          "state": {
            "_dom_classes": [],
            "_model_module": "@jupyter-widgets/controls",
            "_model_module_version": "1.5.0",
            "_model_name": "HBoxModel",
            "_view_count": null,
            "_view_module": "@jupyter-widgets/controls",
            "_view_module_version": "1.5.0",
            "_view_name": "HBoxView",
            "box_style": "",
            "children": [
              "IPY_MODEL_1aeee58c7a3e4ed8a549b01fd0b6f35b",
              "IPY_MODEL_f4a3e4f482b54a009d974cecdc4098d2",
              "IPY_MODEL_bb988c09c54a4bed9951f7a4a900ac01"
            ],
            "layout": "IPY_MODEL_0b832c002cb64f42aa6416a023df79c4"
          }
        },
        "1aeee58c7a3e4ed8a549b01fd0b6f35b": {
          "model_module": "@jupyter-widgets/controls",
          "model_name": "HTMLModel",
          "model_module_version": "1.5.0",
          "state": {
            "_dom_classes": [],
            "_model_module": "@jupyter-widgets/controls",
            "_model_module_version": "1.5.0",
            "_model_name": "HTMLModel",
            "_view_count": null,
            "_view_module": "@jupyter-widgets/controls",
            "_view_module_version": "1.5.0",
            "_view_name": "HTMLView",
            "description": "",
            "description_tooltip": null,
            "layout": "IPY_MODEL_1a11f27ab5ee4213b6f44d6203dd5796",
            "placeholder": "​",
            "style": "IPY_MODEL_a3efe638ca914bd9a5600b05850f3faa",
            "value": "Downloading: 100%"
          }
        },
        "f4a3e4f482b54a009d974cecdc4098d2": {
          "model_module": "@jupyter-widgets/controls",
          "model_name": "FloatProgressModel",
          "model_module_version": "1.5.0",
          "state": {
            "_dom_classes": [],
            "_model_module": "@jupyter-widgets/controls",
            "_model_module_version": "1.5.0",
            "_model_name": "FloatProgressModel",
            "_view_count": null,
            "_view_module": "@jupyter-widgets/controls",
            "_view_module_version": "1.5.0",
            "_view_name": "ProgressView",
            "bar_style": "success",
            "description": "",
            "description_tooltip": null,
            "layout": "IPY_MODEL_f5bcbd56d1bc4b07a81313e42eebb83e",
            "max": 657434796,
            "min": 0,
            "orientation": "horizontal",
            "style": "IPY_MODEL_f5098450011040d8914dc93f9452fc13",
            "value": 657434796
          }
        },
        "bb988c09c54a4bed9951f7a4a900ac01": {
          "model_module": "@jupyter-widgets/controls",
          "model_name": "HTMLModel",
          "model_module_version": "1.5.0",
          "state": {
            "_dom_classes": [],
            "_model_module": "@jupyter-widgets/controls",
            "_model_module_version": "1.5.0",
            "_model_name": "HTMLModel",
            "_view_count": null,
            "_view_module": "@jupyter-widgets/controls",
            "_view_module_version": "1.5.0",
            "_view_name": "HTMLView",
            "description": "",
            "description_tooltip": null,
            "layout": "IPY_MODEL_ac6878f2a8134f3996803bc067184eb6",
            "placeholder": "​",
            "style": "IPY_MODEL_0451902513874a30a232e730ea5368b5",
            "value": " 627M/627M [00:14&lt;00:00, 50.4MB/s]"
          }
        },
        "0b832c002cb64f42aa6416a023df79c4": {
          "model_module": "@jupyter-widgets/base",
          "model_name": "LayoutModel",
          "model_module_version": "1.2.0",
          "state": {
            "_model_module": "@jupyter-widgets/base",
            "_model_module_version": "1.2.0",
            "_model_name": "LayoutModel",
            "_view_count": null,
            "_view_module": "@jupyter-widgets/base",
            "_view_module_version": "1.2.0",
            "_view_name": "LayoutView",
            "align_content": null,
            "align_items": null,
            "align_self": null,
            "border": null,
            "bottom": null,
            "display": null,
            "flex": null,
            "flex_flow": null,
            "grid_area": null,
            "grid_auto_columns": null,
            "grid_auto_flow": null,
            "grid_auto_rows": null,
            "grid_column": null,
            "grid_gap": null,
            "grid_row": null,
            "grid_template_areas": null,
            "grid_template_columns": null,
            "grid_template_rows": null,
            "height": null,
            "justify_content": null,
            "justify_items": null,
            "left": null,
            "margin": null,
            "max_height": null,
            "max_width": null,
            "min_height": null,
            "min_width": null,
            "object_fit": null,
            "object_position": null,
            "order": null,
            "overflow": null,
            "overflow_x": null,
            "overflow_y": null,
            "padding": null,
            "right": null,
            "top": null,
            "visibility": null,
            "width": null
          }
        },
        "1a11f27ab5ee4213b6f44d6203dd5796": {
          "model_module": "@jupyter-widgets/base",
          "model_name": "LayoutModel",
          "model_module_version": "1.2.0",
          "state": {
            "_model_module": "@jupyter-widgets/base",
            "_model_module_version": "1.2.0",
            "_model_name": "LayoutModel",
            "_view_count": null,
            "_view_module": "@jupyter-widgets/base",
            "_view_module_version": "1.2.0",
            "_view_name": "LayoutView",
            "align_content": null,
            "align_items": null,
            "align_self": null,
            "border": null,
            "bottom": null,
            "display": null,
            "flex": null,
            "flex_flow": null,
            "grid_area": null,
            "grid_auto_columns": null,
            "grid_auto_flow": null,
            "grid_auto_rows": null,
            "grid_column": null,
            "grid_gap": null,
            "grid_row": null,
            "grid_template_areas": null,
            "grid_template_columns": null,
            "grid_template_rows": null,
            "height": null,
            "justify_content": null,
            "justify_items": null,
            "left": null,
            "margin": null,
            "max_height": null,
            "max_width": null,
            "min_height": null,
            "min_width": null,
            "object_fit": null,
            "object_position": null,
            "order": null,
            "overflow": null,
            "overflow_x": null,
            "overflow_y": null,
            "padding": null,
            "right": null,
            "top": null,
            "visibility": null,
            "width": null
          }
        },
        "a3efe638ca914bd9a5600b05850f3faa": {
          "model_module": "@jupyter-widgets/controls",
          "model_name": "DescriptionStyleModel",
          "model_module_version": "1.5.0",
          "state": {
            "_model_module": "@jupyter-widgets/controls",
            "_model_module_version": "1.5.0",
            "_model_name": "DescriptionStyleModel",
            "_view_count": null,
            "_view_module": "@jupyter-widgets/base",
            "_view_module_version": "1.2.0",
            "_view_name": "StyleView",
            "description_width": ""
          }
        },
        "f5bcbd56d1bc4b07a81313e42eebb83e": {
          "model_module": "@jupyter-widgets/base",
          "model_name": "LayoutModel",
          "model_module_version": "1.2.0",
          "state": {
            "_model_module": "@jupyter-widgets/base",
            "_model_module_version": "1.2.0",
            "_model_name": "LayoutModel",
            "_view_count": null,
            "_view_module": "@jupyter-widgets/base",
            "_view_module_version": "1.2.0",
            "_view_name": "LayoutView",
            "align_content": null,
            "align_items": null,
            "align_self": null,
            "border": null,
            "bottom": null,
            "display": null,
            "flex": null,
            "flex_flow": null,
            "grid_area": null,
            "grid_auto_columns": null,
            "grid_auto_flow": null,
            "grid_auto_rows": null,
            "grid_column": null,
            "grid_gap": null,
            "grid_row": null,
            "grid_template_areas": null,
            "grid_template_columns": null,
            "grid_template_rows": null,
            "height": null,
            "justify_content": null,
            "justify_items": null,
            "left": null,
            "margin": null,
            "max_height": null,
            "max_width": null,
            "min_height": null,
            "min_width": null,
            "object_fit": null,
            "object_position": null,
            "order": null,
            "overflow": null,
            "overflow_x": null,
            "overflow_y": null,
            "padding": null,
            "right": null,
            "top": null,
            "visibility": null,
            "width": null
          }
        },
        "f5098450011040d8914dc93f9452fc13": {
          "model_module": "@jupyter-widgets/controls",
          "model_name": "ProgressStyleModel",
          "model_module_version": "1.5.0",
          "state": {
            "_model_module": "@jupyter-widgets/controls",
            "_model_module_version": "1.5.0",
            "_model_name": "ProgressStyleModel",
            "_view_count": null,
            "_view_module": "@jupyter-widgets/base",
            "_view_module_version": "1.2.0",
            "_view_name": "StyleView",
            "bar_color": null,
            "description_width": ""
          }
        },
        "ac6878f2a8134f3996803bc067184eb6": {
          "model_module": "@jupyter-widgets/base",
          "model_name": "LayoutModel",
          "model_module_version": "1.2.0",
          "state": {
            "_model_module": "@jupyter-widgets/base",
            "_model_module_version": "1.2.0",
            "_model_name": "LayoutModel",
            "_view_count": null,
            "_view_module": "@jupyter-widgets/base",
            "_view_module_version": "1.2.0",
            "_view_name": "LayoutView",
            "align_content": null,
            "align_items": null,
            "align_self": null,
            "border": null,
            "bottom": null,
            "display": null,
            "flex": null,
            "flex_flow": null,
            "grid_area": null,
            "grid_auto_columns": null,
            "grid_auto_flow": null,
            "grid_auto_rows": null,
            "grid_column": null,
            "grid_gap": null,
            "grid_row": null,
            "grid_template_areas": null,
            "grid_template_columns": null,
            "grid_template_rows": null,
            "height": null,
            "justify_content": null,
            "justify_items": null,
            "left": null,
            "margin": null,
            "max_height": null,
            "max_width": null,
            "min_height": null,
            "min_width": null,
            "object_fit": null,
            "object_position": null,
            "order": null,
            "overflow": null,
            "overflow_x": null,
            "overflow_y": null,
            "padding": null,
            "right": null,
            "top": null,
            "visibility": null,
            "width": null
          }
        },
        "0451902513874a30a232e730ea5368b5": {
          "model_module": "@jupyter-widgets/controls",
          "model_name": "DescriptionStyleModel",
          "model_module_version": "1.5.0",
          "state": {
            "_model_module": "@jupyter-widgets/controls",
            "_model_module_version": "1.5.0",
            "_model_name": "DescriptionStyleModel",
            "_view_count": null,
            "_view_module": "@jupyter-widgets/base",
            "_view_module_version": "1.2.0",
            "_view_name": "StyleView",
            "description_width": ""
          }
        }
      }
    }
  },
  "nbformat": 4,
  "nbformat_minor": 0
}